{
  "nbformat": 4,
  "nbformat_minor": 0,
  "metadata": {
    "colab": {
      "provenance": []
    },
    "kernelspec": {
      "name": "python3",
      "display_name": "Python 3"
    },
    "language_info": {
      "name": "python"
    }
  },
  "cells": [
    {
      "cell_type": "code",
      "source": [
        "!pip install medpy"
      ],
      "metadata": {
        "id": "PHw-Dq8UWZs0"
      },
      "execution_count": null,
      "outputs": []
    },
    {
      "cell_type": "code",
      "source": [
        "from google.colab import drive\n",
        "drive.mount('/content/drive')"
      ],
      "metadata": {
        "id": "eKfQnGJnhvA4"
      },
      "execution_count": null,
      "outputs": []
    },
    {
      "cell_type": "code",
      "source": [
        "import nibabel as nib\n",
        "import numpy as np\n",
        "from medpy.metric.binary import hd95"
      ],
      "metadata": {
        "id": "pgMHR1Fssdxe"
      },
      "execution_count": 3,
      "outputs": []
    },
    {
      "cell_type": "code",
      "source": [
        "def diceScore(pred, ground):\n",
        "\n",
        "    if pred.shape != ground.shape:\n",
        "        raise ValueError(\"Shape mismatch: pred and ground must have the same shape.\")\n",
        "\n",
        "    # Compute Dice coefficient\n",
        "    intersection = np.logical_and(pred, ground)\n",
        "\n",
        "    if ((pred.sum()==0) and (ground.sum()==0)):\n",
        "        # label not present in either\n",
        "        score = 1\n",
        "    else:\n",
        "        score = (2. * intersection.sum()) / (pred.sum() + ground.sum())\n",
        "\n",
        "    return score"
      ],
      "metadata": {
        "id": "sWHcPF5lWxdt"
      },
      "execution_count": 4,
      "outputs": []
    },
    {
      "cell_type": "code",
      "source": [
        "def sensitivity(pred, ground):\n",
        "\n",
        "    numerator = np.sum(np.multiply(ground, pred))\n",
        "    denominator =np.sum(ground)\n",
        "    if denominator ==0:\n",
        "        return np.nan\n",
        "    else:\n",
        "        return  numerator/denominator"
      ],
      "metadata": {
        "id": "vVDBfjPaWzxQ"
      },
      "execution_count": 5,
      "outputs": []
    },
    {
      "cell_type": "code",
      "source": [
        "def hausdorff95(pred, ground):\n",
        "\n",
        "    if (np.count_nonzero(ground) == 0) or (np.count_nonzero(pred) == 0):\n",
        "        return np.nan\n",
        "\n",
        "    return hd95(ground, pred)"
      ],
      "metadata": {
        "id": "Tuq3CqiZXBBr"
      },
      "execution_count": 6,
      "outputs": []
    },
    {
      "cell_type": "code",
      "source": [
        "pred_path = '/content/drive/MyDrive/stats/pred_351_segm.nii.gz'\n",
        "gt_path = '/content/drive/MyDrive/stats/gt_351_segm.nii.gz'\n",
        "\n",
        "gt = nib.load(gt_path).get_fdata()\n",
        "gt = np.rint(gt)\n",
        "\n",
        "# load the predicted segmentation inference\n",
        "pred = nib.load(pred_path).get_fdata()\n",
        "pred = np.rint(pred)\n",
        "\n",
        "# Convert to array for Sensitivity HD-95 calculation\n",
        "pred_img = np.asarray(pred)\n",
        "gt_img = np.asarray(gt)\n",
        "\n",
        "# Calculate DICE Score -\n",
        "\n",
        "ds_wt = diceScore(pred>0, gt>0) # For Whole Tumor\n",
        "ds_1 = diceScore(pred==1, gt==1) # Tumor Core\n",
        "ds_2 = diceScore(pred==2, gt==2) # For Edema subregion\n",
        "ds_3 = diceScore(pred==3, gt==4) # For ET subregion\n",
        "print(\"DSC-WT: \", ds_wt, \", DSC-TC: \", ds_1, \", DSC-ED: \", ds_2, \", DSC-ET: \", ds_3)\n",
        "\n",
        "# Calculate Sensitivity -\n",
        "\n",
        "s_wt = sensitivity(pred_img>0, gt_img>0) # For Whole Tumor\n",
        "s_1 = sensitivity(pred_img==1, gt_img==1) # For Enhancing Tumor subregion\n",
        "s_2 = sensitivity(pred_img==2, gt_img==2) # For Edema subregion\n",
        "s_3 = sensitivity(pred_img==3, gt_img==4) # For ET subregion\n",
        "print(\"Sen-WT: \", s_wt, \", Sen-TC: \", s_1, \", Sen-ED: \", s_2, \", Sen-ET: \", s_3)\n",
        "\n",
        "# Calculate Hausdorff-95 distance -\n",
        "h_wt = hausdorff95(pred_img>0, gt_img>0)\n",
        "h_1 = hausdorff95(pred_img==1, gt_img==1)\n",
        "h_2 = hausdorff95(pred_img==2, gt_img==2)\n",
        "h_3 = hausdorff95(pred_img==3, gt_img==4)\n",
        "print(\"HD95-WT: \", h_wt, \", HD95-TC: \", h_1, \", HD95-ED: \", h_2, \", HD95-ET: \", h_3)"
      ],
      "metadata": {
        "colab": {
          "base_uri": "https://localhost:8080/"
        },
        "id": "DsqiWPnvuFwh",
        "outputId": "d3c1cd8b-15da-415f-9339-3f70fb0cec37"
      },
      "execution_count": 15,
      "outputs": [
        {
          "output_type": "stream",
          "name": "stdout",
          "text": [
            "Ground truth labels: [0. 1. 2. 4.]\n",
            "Predicted labels: [0. 1. 2. 4.]\n",
            "DSC-WT:  0.9374891171861397 , DSC-TC:  0.6446861233480177 , DSC-ED:  0.8748330374503339 , DSC-ET:  0.845558064437808\n",
            "Sen-WT:  0.9481043196506242 , Sen-TC:  0.5019292604501607 , Sen-ED:  0.8759141386782232 , Sen-ET:  0.971653367557614\n",
            "HD95-WT:  2.449489742783178 , HD95-TC:  6.160331429335349 , HD95-ED:  2.23606797749979 , HD95-ET:  2.0\n"
          ]
        }
      ]
    }
  ]
}